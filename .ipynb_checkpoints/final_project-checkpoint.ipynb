{
 "cells": [
  {
   "cell_type": "code",
   "execution_count": 2,
   "id": "050d80a7-80fa-4090-94da-fdae155a3c9b",
   "metadata": {
    "tags": []
   },
   "outputs": [],
   "source": [
    "#import packages\n",
    "import numpy as np\n",
    "import xarray as xr\n",
    "import pandas as pd\n",
    "from datetime import datetime\n",
    "\n",
    "import matplotlib.pyplot as plt\n",
    "import cartopy.crs as ccrs\n",
    "import cartopy.feature as cfeature\n",
    "from cartopy.mpl.gridliner import LONGITUDE_FORMATTER, LATITUDE_FORMATTER"
   ]
  },
  {
   "cell_type": "code",
   "execution_count": 26,
   "id": "af3413ba-6233-4dfc-b540-b94503fff308",
   "metadata": {
    "tags": []
   },
   "outputs": [],
   "source": [
    "#temp anomaly data, open excel \n",
    "tfilepath = ('data/temp_annomaly.xls')\n",
    "\n",
    "#adjust/set headers (would show no headers/index in excel), get values from excel sheet\n",
    "tempa_headers = 7\n",
    "tempa= pd.read_excel(tfilepath, sheet_name='Data', header=tempa_headers)\n",
    "\n",
    "##display(tempa)"
   ]
  },
  {
   "cell_type": "code",
   "execution_count": 27,
   "id": "a59d214a-6de2-408a-b1e5-6e4a9fb9a968",
   "metadata": {
    "tags": []
   },
   "outputs": [],
   "source": [
    "#WAIS CO2 Data\n",
    "\n",
    "#1st set (WAIS Divide Core 1,200 Year Atmospheric CO2 and CO2 Stable Isotope Data)\n",
    "w1filepath = ('data/wais2015co2.txt')\n",
    "wais15_file = open(w1filepath, 'r')\n",
    "\n",
    "#read file to observe structure, headers and columns, comment out for easier processing/coding\n",
    "##for l in range(100):\n",
    "    ##line = wais2015.readline()\n",
    "    ##print(line)\n",
    "    \n",
    "wais15_file.close()\n",
    "\n",
    "#create variables for \n",
    "wais15_headerlines = 108\n",
    "wais15_data= (1,2,3,4)\n",
    "\n",
    "#use genfromtxt to read file into array\n",
    "wais2015= np.genfromtxt(w1filepath, skip_header=wais15_headerlines, usecols=wais15_data, dtype=float)\n",
    "##print(wais2015)\n",
    "\n",
    "#set variables into array for age(year) and co2(ppm)\n",
    "w1_age = wais2015[:,1]\n",
    "w1_co2 = wais2015[:,2]\n",
    "\n",
    "\n",
    "\n",
    "\n",
    "#2st set (West Antarctic Ice Sheet (WAIS) Ice Core WDC-05A 1000 Year CO2 Data)\n",
    "w2filepath = ('data/wais2012co2.xls')\n",
    "\n",
    "#adjust/set headers (would show no headers/index in excel), get values from excel sheet\n",
    "w2_headers = 5\n",
    "wais2012 = pd.read_excel(w2filepath, sheet_name='WDC-05A CO2', header=w2_headers)\n",
    "\n",
    "##display(wais2012)"
   ]
  },
  {
   "cell_type": "code",
   "execution_count": 25,
   "id": "0fe10c87-5585-4799-8c26-08d80e71f64a",
   "metadata": {},
   "outputs": [],
   "source": [
    "#Law Dome CO2\n",
    "\n",
    "#1st set (Law Dome, Antarctica 2000 Year Ice Core CO2, CH4, N2O and d13C-CO2 Data)\n",
    "l1filepath = ('data/law2018co2.txt')\n",
    "law18_file = open(l1filepath, 'r')\n",
    "\n",
    "#read file to observe structure, headers and columns, comment out for easier processing/coding\n",
    "##for l in range(120):\n",
    "    ##line = law18_file.readline()\n",
    "    ##print(line)\n",
    "    \n",
    "law18_file.close()\n",
    "\n",
    "#create variables for \n",
    "law18_headerlines = 111\n",
    "law18_data= (2,3,4,5)\n",
    "\n",
    "#use genfromtxt to read file into array\n",
    "law2018 = np.genfromtxt(l1filepath, skip_header=law18_headerlines, usecols=law18_data, dtype=float)\n",
    "##print(law18)\n",
    "\n",
    "#set variables into array for ages(year) and co2(ppm)\n",
    "l1_iceage = law2018[:,0]\n",
    "l1_co2age = law2018[:,1]\n",
    "l1_co2 = law2018[:,2]\n",
    "\n",
    "##print(l1_iceage)\n",
    "##print(l1_co2age)\n",
    "#print(l1_co2)\n",
    "\n",
    "\n",
    "\n",
    "#set 2 (Law Dome Ice Core 2000-Year CO2, CH4, and N2O Data)\n",
    "l2filepath = ('data/law2006-co2-noaa.txt')\n",
    "law06_file = open(l2filepath, 'r')\n",
    "\n",
    "#read file to observe structure, headers and columns, comment out for easier processing/coding\n",
    "##for l in range(120):\n",
    "    ##line = law06_file.readline()\n",
    "    ##print(line)\n",
    "    \n",
    "law06_file.close()\n",
    "\n",
    "#create variables for \n",
    "law06_headerlines = 295\n",
    "law06_data= (1,2)\n",
    "\n",
    "#use genfromtxt to read file into array\n",
    "law2006 = np.genfromtxt(l2filepath, skip_header=law06_headerlines, usecols=law06_data, dtype=float)\n",
    "##print(law18)\n",
    "\n",
    "#set variables into array for ages(year) and co2(ppm)\n",
    "l2_age = law2006[:,0]\n",
    "l2_co2 = law2006[:,1]\n",
    "\n",
    "##print(l2_age)\n",
    "##print(l2_co2)"
   ]
  },
  {
   "cell_type": "code",
   "execution_count": null,
   "id": "2b909b5a-4cf5-48a6-a4ca-6af30e08b170",
   "metadata": {},
   "outputs": [],
   "source": []
  }
 ],
 "metadata": {
  "kernelspec": {
   "display_name": "Python 3 (ipykernel)",
   "language": "python",
   "name": "python3"
  },
  "language_info": {
   "codemirror_mode": {
    "name": "ipython",
    "version": 3
   },
   "file_extension": ".py",
   "mimetype": "text/x-python",
   "name": "python",
   "nbconvert_exporter": "python",
   "pygments_lexer": "ipython3",
   "version": "3.10.10"
  }
 },
 "nbformat": 4,
 "nbformat_minor": 5
}
